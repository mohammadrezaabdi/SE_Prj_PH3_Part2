{
 "cells": [
  {
   "cell_type": "markdown",
   "metadata": {},
   "source": [
    "<div dir=\"rtl\">\n",
    "\n",
    "## روش انتخابی آزمون و دلیل آن\n",
    "\n",
    "** Graph\n",
    "SESE\n",
    "\n",
    "</div>"
   ]
  },
  {
   "cell_type": "markdown",
   "metadata": {},
   "source": [
    "<div dir=\"rtl\">\n",
    "\n",
    "## معیار پوشش انتخابی و دلیل آن\n",
    "\n",
    "** EPC\n",
    "\n",
    "https://cs.gmu.edu:8443/offutt/coverage/GraphCoverage?edges=0+1%0D%0A1+7%0D%0A7+2%0D%0A7+6%0D%0A4+7%0D%0A5+7%0D%0A2+3%0D%0A2+4%0D%0A2+5%0D%0A3+8%0D%0A6+8%0D%0A&initialNode=0&endNode=8&action=Edge-Pair\n",
    "\n",
    "https://cs.gmu.edu:8443/offutt/coverage/GraphCoverage?edges=0+1%0D%0A1+7%0D%0A7+2%0D%0A7+6%0D%0A4+7%0D%0A5+7%0D%0A2+3%0D%0A2+4%0D%0A2+5%0D%0A3+8%0D%0A6+8%0D%0A&initialNode=0&endNode=8&action=Edge-Pair%20Coverage\n",
    "\n",
    "https://cs.gmu.edu:8443/offutt/coverage/GraphCoverage?edges=0+1%0D%0A1+7%0D%0A7+2%0D%0A7+6%0D%0A4+7%0D%0A5+7%0D%0A2+3%0D%0A2+4%0D%0A2+5%0D%0A3+8%0D%0A6+8%0D%0A&initialNode=0&endNode=8&algorithm2=Edge-Pair%20Coverage\n",
    "\n",
    "https://cs.gmu.edu:8443/offutt/coverage/GraphCoverage?edges=0+1%0D%0A1+7%0D%0A7+2%0D%0A7+6%0D%0A4+7%0D%0A5+7%0D%0A2+3%0D%0A2+4%0D%0A2+5%0D%0A3+8%0D%0A6+8%0D%0A&initialNode=0&endNode=8&action=Edge%20Coverage\n",
    "\n",
    "</div>"
   ]
  },
  {
   "cell_type": "markdown",
   "metadata": {},
   "source": [
    "<div dir=\"rtl\">\n",
    "\n",
    "## رنحوه استفاده از روش برای آزمون )شامل تمام محاسبات انجام شده برای بدست آوردن موارد آزمون(\n",
    "\n",
    "    \n",
    "</div>"
   ]
  },
  {
   "cell_type": "markdown",
   "metadata": {},
   "source": [
    "<div dir=\"rtl\">\n",
    "\n",
    "## نیازمندیهای آزمون\n",
    "\n",
    "Graph:\n",
    "0 1\n",
    "1 7\n",
    "7 2\n",
    "7 6\n",
    "4 7\n",
    "5 7\n",
    "2 3\n",
    "2 4\n",
    "2 5\n",
    "3 8\n",
    "6 8\n",
    "Initial Node:\n",
    "0\n",
    "Final Node:\n",
    "8\n",
    "\n",
    "14 requirements are needed for Edge-Pairs\n",
    "1. [0,1,7]\n",
    "2. [1,7,2]\n",
    "3. [1,7,6]\n",
    "4. [7,2,3]\n",
    "5. [7,2,4]\n",
    "6. [7,2,5]\n",
    "7. [7,6,8]\n",
    "8. [4,7,2]\n",
    "9. [4,7,6]\n",
    "10. [5,7,2]\n",
    "11. [5,7,6]\n",
    "12. [2,3,8]\n",
    "13. [2,4,7]\n",
    "14. [2,5,7]\n",
    "\n",
    "</div>"
   ]
  },
  {
   "cell_type": "markdown",
   "metadata": {},
   "source": [
    "<div dir=\"rtl\">\n",
    "\n",
    "## موارد آزمون\n",
    "\n",
    "NC --> Failed!!!\n",
    "3 test paths are needed for Node Coverage\n",
    "[0,1,7,2,3,8]\n",
    "[0,1,7,2,5,7,6,8]\n",
    "[0,1,7,2,4,7,6,8]\n",
    "\n",
    "EC --> Failed!!!\n",
    "3 test paths are needed for Edge Coverage\n",
    "[0,1,7,2,3,8]\n",
    "[0,1,7,2,5,7,6,8]\n",
    "[0,1,7,2,4,7,6,8]\n",
    "\n",
    "EPC\n",
    "5 test paths are needed for Edge-Pair Coverage\n",
    "Test Paths\tTest Requirements that are toured by test paths directly\n",
    "[0,1,7,6,8]\t[0,1,7], [1,7,6], [7,6,8]\n",
    "[0,1,7,2,4,7,6,8]\t[0,1,7], [1,7,2], [7,2,4], [7,6,8], [4,7,6], [2,4,7]\n",
    "[0,1,7,2,5,7,6,8]\t[0,1,7], [1,7,2], [7,2,5], [7,6,8], [5,7,6], [2,5,7]\n",
    "[0,1,7,2,4,7,2,3,8]\t[0,1,7], [1,7,2], [7,2,3], [7,2,4], [4,7,2], [2,3,8], [2,4,7]\n",
    "[0,1,7,2,5,7,2,3,8]\t[0,1,7], [1,7,2], [7,2,3], [7,2,5], [5,7,2], [2,3,8], [2,5,7]\n",
    "</div>\n",
    "\n",
    "<table border=\"1\">\n",
    "<tbody><tr><td>Test Paths</td><td>Test Requirements that are toured by test paths directly</td></tr>\n",
    "<tr><td>[0,1,7,6,8]</td><td>[0,1,7], [1,7,6], [7,6,8]</td></tr><tr><td>[0,1,7,2,4,7,6,8]</td><td>[0,1,7], [1,7,2], [7,2,4], [7,6,8], [4,7,6], [2,4,7]</td></tr><tr><td>[0,1,7,2,5,7,6,8]</td><td>[0,1,7], [1,7,2], [7,2,5], [7,6,8], [5,7,6], [2,5,7]</td></tr><tr><td>[0,1,7,2,4,7,2,3,8]</td><td>[0,1,7], [1,7,2], [7,2,3], [7,2,4], [4,7,2], [2,3,8], [2,4,7]</td></tr><tr><td>[0,1,7,2,5,7,2,3,8]</td><td>[0,1,7], [1,7,2], [7,2,3], [7,2,5], [5,7,2], [2,3,8], [2,5,7]</td></tr></tbody></table>\n"
   ]
  },
  {
   "cell_type": "markdown",
   "metadata": {},
   "source": [
    "<div dir=\"rtl\">\n",
    "\n",
    "## نتیجه اجرای موارد آزمون بر روی برنامه )اسکرین نتایج ثبت گردد.(\n",
    "\n",
    "</div>"
   ]
  },
  {
   "cell_type": "markdown",
   "metadata": {},
   "source": [
    "<div dir=\"rtl\">\n",
    "\n",
    "## ارزیابی روش استفاده شده و بیان خطای یافت شده\n",
    "\n",
    "</div>"
   ]
  },
  {
   "cell_type": "markdown",
   "metadata": {},
   "source": [
    "EPC:\n",
    "\n",
    "<table border=\"1\">\n",
    "<tbody><tr><td>Test Paths</td><td>Test Requirements that are toured by test paths directly</td></tr>\n",
    "<tr><td>[0,1,7,6,8]</td><td>[0,1,7], [1,7,6], [7,6,8]</td></tr><tr><td>[0,1,7,2,4,7,6,8]</td><td>[0,1,7], [1,7,2], [7,2,4], [7,6,8], [4,7,6], [2,4,7]</td></tr><tr><td>[0,1,7,2,5,7,6,8]</td><td>[0,1,7], [1,7,2], [7,2,5], [7,6,8], [5,7,6], [2,5,7]</td></tr><tr><td>[0,1,7,2,4,7,2,3,8]</td><td>[0,1,7], [1,7,2], [7,2,3], [7,2,4], [4,7,2], [2,3,8], [2,4,7]</td></tr><tr><td>[0,1,7,2,5,7,2,3,8]</td><td>[0,1,7], [1,7,2], [7,2,3], [7,2,5], [5,7,2], [2,3,8], [2,5,7]</td></tr></tbody></table>"
   ]
  },
  {
   "cell_type": "markdown",
   "metadata": {},
   "source": [
    "[0, 1, 7, 6, 8]: Infeasible )-> [1, 7, 6]\n",
    "[0, 1, 7, 2, 4, 7, 6, 8]: Infeasible [infinite loop] )-> [4, 7, 6]\n",
    "[0, 1, 7, 2, 5, 7, 6, 8]: Infeasible [infinite loop] )-> [5, 7, 6], [7, 6, 8]\n",
    "[0, 1, 7, 2, 4, 7, 2, 3, 8]: feasible: x = 1, arr = [1, 3], expected result = 0 --> pass\n",
    "[0, 1, 7, 2, 5, 7, 2, 3, 8]: feasible: x = 5, arr = [1, 3], expected result = -1 --> throws exception"
   ]
  },
  {
   "cell_type": "markdown",
   "metadata": {},
   "source": [
    "<div dir=\"rtl\">\n",
    "نتیجه اخلاقی:\n",
    "\n",
    "با توجه به کد، هیچگاه اجرای ترکیب گره‌های \n",
    "7, 6\n",
    "رخ نمی‌دهد چرا که تمامی زوج یال های زیر \n",
    "infeasible\n",
    "هستند:\n",
    "</div>\n",
    "[1, 7, 6]\n",
    "[4, 7, 6]\n",
    "[5, 7, 6]\n",
    "[7, 6, 8]"
   ]
  },
  {
   "cell_type": "markdown",
   "metadata": {},
   "source": [
    "PPC:\n",
    "\n",
    "<div dir=\"rtl\">\n",
    "اجرا با حذف یال \n",
    "7,6\n",
    "</div>\n",
    "\n",
    "7 test paths are needed for Prime Path Coverage\n",
    "Test Paths\tTest Requirements that are toured by test paths directly\n",
    "[0,1,7,2,3,8]\t[0,1,7,2,3,8]\n",
    "[0,1,7,2,5,7,2,3,8]\t[0,1,7,2,5], [5,7,2,3,8], [7,2,5,7], [2,5,7,2]\n",
    "[0,1,7,2,4,7,2,3,8]\t[0,1,7,2,4], [4,7,2,3,8], [7,2,4,7], [2,4,7,2]\n",
    "[0,1,7,2,4,7,2,4,7,2,3,8]\t[0,1,7,2,4], [4,7,2,3,8], [7,2,4,7], [4,7,2,4], [2,4,7,2]\n",
    "[0,1,7,2,5,7,2,5,7,2,3,8]\t[0,1,7,2,5], [5,7,2,3,8], [7,2,5,7], [2,5,7,2], [5,7,2,5]\n",
    "[0,1,7,2,4,7,2,5,7,2,3,8]\t[0,1,7,2,4], [5,7,2,3,8], [7,2,4,7], [7,2,5,7], [2,4,7,2], [2,5,7,2], [4,7,2,5]\n",
    "[0,1,7,2,5,7,2,4,7,2,3,8]\t[0,1,7,2,5], [4,7,2,3,8], [7,2,4,7], [7,2,5,7], [2,4,7,2], [2,5,7,2], [5,7,2,4]\n",
    "\n",
    "<table border=\"1\">\n",
    "<tbody><tr><td>Test Paths</td><td>Test Requirements that are toured by test paths directly</td></tr>\n",
    "<tr><td>[0,1,7,2,3,8]</td><td>[0,1,7,2,3,8]</td></tr><tr><td>[0,1,7,2,5,7,2,3,8]</td><td>[0,1,7,2,5], [5,7,2,3,8], [7,2,5,7], [2,5,7,2]</td></tr><tr><td>[0,1,7,2,4,7,2,3,8]</td><td>[0,1,7,2,4], [4,7,2,3,8], [7,2,4,7], [2,4,7,2]</td></tr><tr><td>[0,1,7,2,4,7,2,4,7,2,3,8]</td><td>[0,1,7,2,4], [4,7,2,3,8], [7,2,4,7], [4,7,2,4], [2,4,7,2]</td></tr><tr><td>[0,1,7,2,5,7,2,5,7,2,3,8]</td><td>[0,1,7,2,5], [5,7,2,3,8], [7,2,5,7], [2,5,7,2], [5,7,2,5]</td></tr><tr><td>[0,1,7,2,4,7,2,5,7,2,3,8]</td><td>[0,1,7,2,4], [5,7,2,3,8], [7,2,4,7], [7,2,5,7], [2,4,7,2], [2,5,7,2], [4,7,2,5]</td></tr><tr><td>[0,1,7,2,5,7,2,4,7,2,3,8]</td><td>[0,1,7,2,5], [4,7,2,3,8], [7,2,4,7], [7,2,5,7], [2,4,7,2], [2,5,7,2], [5,7,2,4]</td></tr></tbody></table>"
   ]
  },
  {
   "cell_type": "markdown",
   "metadata": {},
   "source": [
    "[0, 1, 7, 2, 3, 8]: feasible: x = 2, arr = [1, 2, 3], expected result = 1 -> pass\n",
    "[0, 1, 7, 2, 5, 7, 2, 3, 8]: feasible: x = 5, arr = [1, 3], expected result = -1 --> throws exception\n",
    "[0, 1, 7, 2, 4, 7, 2, 3, 8]: feasible: x = 1, arr = [1, 3], expected result = 0 --> pass\n",
    "[0, 1, 7, 2, 4, 7, 2, 4, 7, 2, 3, 8]: feasible:x = 1, arr = [1, 2, 3, 4, 5, 6, 7, 8], expected result = 0 --> pass"
   ]
  },
  {
   "cell_type": "code",
   "execution_count": 8,
   "metadata": {},
   "outputs": [
    {
     "name": "stdout",
     "output_type": "stream",
     "text": [
      "0\n"
     ]
    },
    {
     "data": {
      "text/plain": [
       "'\\nFancy Binary Search\\nfancy-binsearch\\n\\nInput:\\n    arr: A sorted list of ints\\n    x: A value to find\\n\\nOutput:\\n    The lowest index i such that arr[i] == x, or -1 if x not in arr\\n'"
      ]
     },
     "execution_count": 8,
     "metadata": {},
     "output_type": "execute_result"
    }
   ],
   "source": [
    "def find_first_in_sorted(arr, x):\n",
    "    lo = 0\n",
    "    hi = len(arr)\n",
    "\n",
    "    while lo <= hi:\n",
    "        mid = (lo + hi) // 2\n",
    "\n",
    "        if x == arr[mid] and (mid == 0 or x != arr[mid - 1]):\n",
    "            return mid\n",
    "\n",
    "        elif x <= arr[mid]:\n",
    "            hi = mid\n",
    "\n",
    "        else:\n",
    "            lo = mid + 1\n",
    "\n",
    "    return -1\n",
    "\n",
    "print(find_first_in_sorted([1, 2, 3, 4, 5, 6, 7, 8], 1))\n",
    "\n",
    "\"\"\"\n",
    "Fancy Binary Search\n",
    "fancy-binsearch\n",
    "\n",
    "Input:\n",
    "    arr: A sorted list of ints\n",
    "    x: A value to find\n",
    "\n",
    "Output:\n",
    "    The lowest index i such that arr[i] == x, or -1 if x not in arr\n",
    "\"\"\""
   ]
  }
 ],
 "metadata": {
  "kernelspec": {
   "display_name": "Python 3.9.7 64-bit",
   "language": "python",
   "name": "python3"
  },
  "language_info": {
   "codemirror_mode": {
    "name": "ipython",
    "version": 3
   },
   "file_extension": ".py",
   "mimetype": "text/x-python",
   "name": "python",
   "nbconvert_exporter": "python",
   "pygments_lexer": "ipython3",
   "version": "3.9.7"
  },
  "orig_nbformat": 4,
  "vscode": {
   "interpreter": {
    "hash": "916dbcbb3f70747c44a77c7bcd40155683ae19c65e1c03b4aa3499c5328201f1"
   }
  }
 },
 "nbformat": 4,
 "nbformat_minor": 2
}
