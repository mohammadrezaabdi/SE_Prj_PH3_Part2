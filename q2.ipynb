{
 "cells": [
  {
   "cell_type": "code",
   "execution_count": 1,
   "metadata": {},
   "outputs": [
    {
     "name": "stdout",
     "output_type": "stream",
     "text": [
      "Defaulting to user installation because normal site-packages is not writeable\n",
      "Requirement already satisfied: pytest in /home/mh-abdi/.local/lib/python3.9/site-packages (7.1.2)\n",
      "Requirement already satisfied: tomli>=1.0.0 in /home/mh-abdi/.local/lib/python3.9/site-packages (from pytest) (2.0.1)\n",
      "Requirement already satisfied: packaging in /home/mh-abdi/.local/lib/python3.9/site-packages (from pytest) (21.0)\n",
      "Requirement already satisfied: attrs>=19.2.0 in /home/mh-abdi/.local/lib/python3.9/site-packages (from pytest) (21.2.0)\n",
      "Requirement already satisfied: iniconfig in /home/mh-abdi/.local/lib/python3.9/site-packages (from pytest) (1.1.1)\n",
      "Requirement already satisfied: pluggy<2.0,>=0.12 in /home/mh-abdi/.local/lib/python3.9/site-packages (from pytest) (1.0.0)\n",
      "Requirement already satisfied: py>=1.8.2 in /home/mh-abdi/.local/lib/python3.9/site-packages (from pytest) (1.11.0)\n",
      "Requirement already satisfied: pyparsing>=2.0.2 in /home/mh-abdi/.local/lib/python3.9/site-packages (from packaging->pytest) (3.0.7)\n",
      "Defaulting to user installation because normal site-packages is not writeable\n",
      "Requirement already satisfied: ipytest in /home/mh-abdi/.local/lib/python3.9/site-packages (0.12.0)\n",
      "Requirement already satisfied: ipython in /home/mh-abdi/.local/lib/python3.9/site-packages (from ipytest) (7.28.0)\n",
      "Requirement already satisfied: packaging in /home/mh-abdi/.local/lib/python3.9/site-packages (from ipytest) (21.0)\n",
      "Requirement already satisfied: pytest>=5.4 in /home/mh-abdi/.local/lib/python3.9/site-packages (from ipytest) (7.1.2)\n",
      "Requirement already satisfied: attrs>=19.2.0 in /home/mh-abdi/.local/lib/python3.9/site-packages (from pytest>=5.4->ipytest) (21.2.0)\n",
      "Requirement already satisfied: py>=1.8.2 in /home/mh-abdi/.local/lib/python3.9/site-packages (from pytest>=5.4->ipytest) (1.11.0)\n",
      "Requirement already satisfied: iniconfig in /home/mh-abdi/.local/lib/python3.9/site-packages (from pytest>=5.4->ipytest) (1.1.1)\n",
      "Requirement already satisfied: tomli>=1.0.0 in /home/mh-abdi/.local/lib/python3.9/site-packages (from pytest>=5.4->ipytest) (2.0.1)\n",
      "Requirement already satisfied: pluggy<2.0,>=0.12 in /home/mh-abdi/.local/lib/python3.9/site-packages (from pytest>=5.4->ipytest) (1.0.0)\n",
      "Requirement already satisfied: setuptools>=18.5 in /usr/lib/python3/dist-packages (from ipython->ipytest) (52.0.0)\n",
      "Requirement already satisfied: decorator in /home/mh-abdi/.local/lib/python3.9/site-packages (from ipython->ipytest) (5.1.1)\n",
      "Requirement already satisfied: pygments in /home/mh-abdi/.local/lib/python3.9/site-packages (from ipython->ipytest) (2.10.0)\n",
      "Requirement already satisfied: matplotlib-inline in /home/mh-abdi/.local/lib/python3.9/site-packages (from ipython->ipytest) (0.1.3)\n",
      "Requirement already satisfied: pickleshare in /home/mh-abdi/.local/lib/python3.9/site-packages (from ipython->ipytest) (0.7.5)\n",
      "Requirement already satisfied: backcall in /home/mh-abdi/.local/lib/python3.9/site-packages (from ipython->ipytest) (0.2.0)\n",
      "Requirement already satisfied: prompt-toolkit!=3.0.0,!=3.0.1,<3.1.0,>=2.0.0 in /home/mh-abdi/.local/lib/python3.9/site-packages (from ipython->ipytest) (3.0.21)\n",
      "Requirement already satisfied: pexpect>4.3 in /usr/lib/python3/dist-packages (from ipython->ipytest) (4.8.0)\n",
      "Requirement already satisfied: jedi>=0.16 in /home/mh-abdi/.local/lib/python3.9/site-packages (from ipython->ipytest) (0.18.0)\n",
      "Requirement already satisfied: traitlets>=4.2 in /home/mh-abdi/.local/lib/python3.9/site-packages (from ipython->ipytest) (5.1.1)\n",
      "Requirement already satisfied: pyparsing>=2.0.2 in /home/mh-abdi/.local/lib/python3.9/site-packages (from packaging->ipytest) (3.0.7)\n",
      "Requirement already satisfied: parso<0.9.0,>=0.8.0 in /home/mh-abdi/.local/lib/python3.9/site-packages (from jedi>=0.16->ipython->ipytest) (0.8.2)\n",
      "Requirement already satisfied: wcwidth in /usr/local/lib/python3.9/dist-packages (from prompt-toolkit!=3.0.0,!=3.0.1,<3.1.0,>=2.0.0->ipython->ipytest) (0.2.5)\n",
      "Defaulting to user installation because normal site-packages is not writeable\n",
      "Requirement already satisfied: pytest-timeout in /home/mh-abdi/.local/lib/python3.9/site-packages (2.1.0)\n",
      "Requirement already satisfied: pytest>=5.0.0 in /home/mh-abdi/.local/lib/python3.9/site-packages (from pytest-timeout) (7.1.2)\n",
      "Requirement already satisfied: packaging in /home/mh-abdi/.local/lib/python3.9/site-packages (from pytest>=5.0.0->pytest-timeout) (21.0)\n",
      "Requirement already satisfied: iniconfig in /home/mh-abdi/.local/lib/python3.9/site-packages (from pytest>=5.0.0->pytest-timeout) (1.1.1)\n",
      "Requirement already satisfied: attrs>=19.2.0 in /home/mh-abdi/.local/lib/python3.9/site-packages (from pytest>=5.0.0->pytest-timeout) (21.2.0)\n",
      "Requirement already satisfied: tomli>=1.0.0 in /home/mh-abdi/.local/lib/python3.9/site-packages (from pytest>=5.0.0->pytest-timeout) (2.0.1)\n",
      "Requirement already satisfied: py>=1.8.2 in /home/mh-abdi/.local/lib/python3.9/site-packages (from pytest>=5.0.0->pytest-timeout) (1.11.0)\n",
      "Requirement already satisfied: pluggy<2.0,>=0.12 in /home/mh-abdi/.local/lib/python3.9/site-packages (from pytest>=5.0.0->pytest-timeout) (1.0.0)\n",
      "Requirement already satisfied: pyparsing>=2.0.2 in /home/mh-abdi/.local/lib/python3.9/site-packages (from packaging->pytest>=5.0.0->pytest-timeout) (3.0.7)\n"
     ]
    }
   ],
   "source": [
    "!pip install pytest\n",
    "!pip install ipytest\n",
    "!pip install pytest-timeout"
   ]
  },
  {
   "cell_type": "markdown",
   "metadata": {},
   "source": [
    "<div dir=\"rtl\">\n",
    "\n",
    "## روش انتخابی آزمون و دلیل آن\n",
    "\n",
    "** Graph\n",
    "SESE\n",
    "\n",
    "</div>"
   ]
  },
  {
   "cell_type": "markdown",
   "metadata": {},
   "source": [
    "<div dir=\"rtl\">\n",
    "\n",
    "## معیار پوشش انتخابی و دلیل آن\n",
    "\n",
    "** EPC\n",
    "\n",
    "https://cs.gmu.edu:8443/offutt/coverage/GraphCoverage?edges=0+1%0D%0A1+7%0D%0A7+2%0D%0A7+6%0D%0A4+7%0D%0A5+7%0D%0A2+3%0D%0A2+4%0D%0A2+5%0D%0A3+8%0D%0A6+8%0D%0A&initialNode=0&endNode=8&action=Edge-Pair\n",
    "\n",
    "https://cs.gmu.edu:8443/offutt/coverage/GraphCoverage?edges=0+1%0D%0A1+7%0D%0A7+2%0D%0A7+6%0D%0A4+7%0D%0A5+7%0D%0A2+3%0D%0A2+4%0D%0A2+5%0D%0A3+8%0D%0A6+8%0D%0A&initialNode=0&endNode=8&action=Edge-Pair%20Coverage\n",
    "\n",
    "https://cs.gmu.edu:8443/offutt/coverage/GraphCoverage?edges=0+1%0D%0A1+7%0D%0A7+2%0D%0A7+6%0D%0A4+7%0D%0A5+7%0D%0A2+3%0D%0A2+4%0D%0A2+5%0D%0A3+8%0D%0A6+8%0D%0A&initialNode=0&endNode=8&algorithm2=Edge-Pair%20Coverage\n",
    "\n",
    "https://cs.gmu.edu:8443/offutt/coverage/GraphCoverage?edges=0+1%0D%0A1+7%0D%0A7+2%0D%0A7+6%0D%0A4+7%0D%0A5+7%0D%0A2+3%0D%0A2+4%0D%0A2+5%0D%0A3+8%0D%0A6+8%0D%0A&initialNode=0&endNode=8&action=Edge%20Coverage\n",
    "\n",
    "</div>"
   ]
  },
  {
   "cell_type": "markdown",
   "metadata": {},
   "source": [
    "<div dir=\"rtl\">\n",
    "\n",
    "## رنحوه استفاده از روش برای آزمون )شامل تمام محاسبات انجام شده برای بدست آوردن موارد آزمون(\n",
    "\n",
    "    \n",
    "</div>"
   ]
  },
  {
   "cell_type": "markdown",
   "metadata": {},
   "source": [
    "<div dir=\"rtl\">\n",
    "\n",
    "## نیازمندیهای آزمون\n",
    "\n",
    "Graph:\n",
    "0 1\n",
    "1 7\n",
    "7 2\n",
    "7 6\n",
    "4 7\n",
    "5 7\n",
    "2 3\n",
    "2 4\n",
    "2 5\n",
    "3 8\n",
    "6 8\n",
    "Initial Node:\n",
    "0\n",
    "Final Node:\n",
    "8\n",
    "\n",
    "14 requirements are needed for Edge-Pairs\n",
    "1. [0,1,7]\n",
    "2. [1,7,2]\n",
    "3. [1,7,6]\n",
    "4. [7,2,3]\n",
    "5. [7,2,4]\n",
    "6. [7,2,5]\n",
    "7. [7,6,8]\n",
    "8. [4,7,2]\n",
    "9. [4,7,6]\n",
    "10. [5,7,2]\n",
    "11. [5,7,6]\n",
    "12. [2,3,8]\n",
    "13. [2,4,7]\n",
    "14. [2,5,7]\n",
    "\n",
    "</div>"
   ]
  },
  {
   "cell_type": "markdown",
   "metadata": {},
   "source": [
    "<div dir=\"rtl\">\n",
    "\n",
    "## موارد آزمون\n",
    "\n",
    "NC --> Failed!!!\n",
    "3 test paths are needed for Node Coverage\n",
    "[0,1,7,2,3,8]\n",
    "[0,1,7,2,5,7,6,8]\n",
    "[0,1,7,2,4,7,6,8]\n",
    "\n",
    "EC --> Failed!!!\n",
    "3 test paths are needed for Edge Coverage\n",
    "[0,1,7,2,3,8]\n",
    "[0,1,7,2,5,7,6,8]\n",
    "[0,1,7,2,4,7,6,8]\n",
    "\n",
    "EPC\n",
    "5 test paths are needed for Edge-Pair Coverage\n",
    "Test Paths\tTest Requirements that are toured by test paths directly\n",
    "[0,1,7,6,8]\t[0,1,7], [1,7,6], [7,6,8]\n",
    "[0,1,7,2,4,7,6,8]\t[0,1,7], [1,7,2], [7,2,4], [7,6,8], [4,7,6], [2,4,7]\n",
    "[0,1,7,2,5,7,6,8]\t[0,1,7], [1,7,2], [7,2,5], [7,6,8], [5,7,6], [2,5,7]\n",
    "[0,1,7,2,4,7,2,3,8]\t[0,1,7], [1,7,2], [7,2,3], [7,2,4], [4,7,2], [2,3,8], [2,4,7]\n",
    "[0,1,7,2,5,7,2,3,8]\t[0,1,7], [1,7,2], [7,2,3], [7,2,5], [5,7,2], [2,3,8], [2,5,7]\n",
    "</div>\n",
    "\n",
    "<table border=\"1\">\n",
    "<tbody><tr><td>Test Paths</td><td>Test Requirements that are toured by test paths directly</td></tr>\n",
    "<tr><td>[0,1,7,6,8]</td><td>[0,1,7], [1,7,6], [7,6,8]</td></tr><tr><td>[0,1,7,2,4,7,6,8]</td><td>[0,1,7], [1,7,2], [7,2,4], [7,6,8], [4,7,6], [2,4,7]</td></tr><tr><td>[0,1,7,2,5,7,6,8]</td><td>[0,1,7], [1,7,2], [7,2,5], [7,6,8], [5,7,6], [2,5,7]</td></tr><tr><td>[0,1,7,2,4,7,2,3,8]</td><td>[0,1,7], [1,7,2], [7,2,3], [7,2,4], [4,7,2], [2,3,8], [2,4,7]</td></tr><tr><td>[0,1,7,2,5,7,2,3,8]</td><td>[0,1,7], [1,7,2], [7,2,3], [7,2,5], [5,7,2], [2,3,8], [2,5,7]</td></tr></tbody></table>\n"
   ]
  },
  {
   "cell_type": "markdown",
   "metadata": {},
   "source": [
    "<div dir=\"rtl\">\n",
    "\n",
    "## نتیجه اجرای موارد آزمون بر روی برنامه )اسکرین نتایج ثبت گردد.(\n",
    "\n",
    "</div>"
   ]
  },
  {
   "cell_type": "markdown",
   "metadata": {},
   "source": [
    "<div dir=\"rtl\">\n",
    "\n",
    "## ارزیابی روش استفاده شده و بیان خطای یافت شده\n",
    "\n",
    "</div>"
   ]
  },
  {
   "cell_type": "markdown",
   "metadata": {},
   "source": [
    "EPC:\n",
    "\n",
    "<table border=\"1\">\n",
    "<tbody><tr><td>Test Paths</td><td>Test Requirements that are toured by test paths directly</td></tr>\n",
    "<tr><td>[0,1,7,6,8]</td><td>[0,1,7], [1,7,6], [7,6,8]</td></tr><tr><td>[0,1,7,2,4,7,6,8]</td><td>[0,1,7], [1,7,2], [7,2,4], [7,6,8], [4,7,6], [2,4,7]</td></tr><tr><td>[0,1,7,2,5,7,6,8]</td><td>[0,1,7], [1,7,2], [7,2,5], [7,6,8], [5,7,6], [2,5,7]</td></tr><tr><td>[0,1,7,2,4,7,2,3,8]</td><td>[0,1,7], [1,7,2], [7,2,3], [7,2,4], [4,7,2], [2,3,8], [2,4,7]</td></tr><tr><td>[0,1,7,2,5,7,2,3,8]</td><td>[0,1,7], [1,7,2], [7,2,3], [7,2,5], [5,7,2], [2,3,8], [2,5,7]</td></tr></tbody></table>"
   ]
  },
  {
   "cell_type": "markdown",
   "metadata": {},
   "source": [
    "[0, 1, 7, 6, 8]: Infeasible )-> [1, 7, 6]\n",
    "[0, 1, 7, 2, 4, 7, 6, 8]: Infeasible [infinite loop] )-> [4, 7, 6]\n",
    "[0, 1, 7, 2, 5, 7, 6, 8]: Infeasible [infinite loop] )-> [5, 7, 6], [7, 6, 8]\n",
    "[0, 1, 7, 2, 4, 7, 2, 3, 8]: feasible: x = 1, arr = [1, 3], expected result = 0 --> pass\n",
    "[0, 1, 7, 2, 5, 7, 2, 3, 8]: feasible: x = 5, arr = [1, 3], expected result = -1 --> throws exception"
   ]
  },
  {
   "cell_type": "markdown",
   "metadata": {},
   "source": [
    "<div dir=\"rtl\">\n",
    "نتیجه اخلاقی:\n",
    "\n",
    "با توجه به کد، هیچگاه اجرای ترکیب گره‌های \n",
    "7, 6\n",
    "رخ نمی‌دهد چرا که تمامی زوج یال های زیر \n",
    "infeasible\n",
    "هستند:\n",
    "</div>\n",
    "[1, 7, 6]\n",
    "[4, 7, 6]\n",
    "[5, 7, 6]\n",
    "[7, 6, 8]"
   ]
  },
  {
   "cell_type": "markdown",
   "metadata": {},
   "source": [
    "PPC:\n",
    "\n",
    "<div dir=\"rtl\">\n",
    "اجرا با حذف یال \n",
    "7,6\n",
    "</div>\n",
    "\n",
    "7 test paths are needed for Prime Path Coverage\n",
    "Test Paths\tTest Requirements that are toured by test paths directly\n",
    "[0,1,7,2,3,8]\t[0,1,7,2,3,8]\n",
    "[0,1,7,2,5,7,2,3,8]\t[0,1,7,2,5], [5,7,2,3,8], [7,2,5,7], [2,5,7,2]\n",
    "[0,1,7,2,4,7,2,3,8]\t[0,1,7,2,4], [4,7,2,3,8], [7,2,4,7], [2,4,7,2]\n",
    "[0,1,7,2,4,7,2,4,7,2,3,8]\t[0,1,7,2,4], [4,7,2,3,8], [7,2,4,7], [4,7,2,4], [2,4,7,2]\n",
    "[0,1,7,2,5,7,2,5,7,2,3,8]\t[0,1,7,2,5], [5,7,2,3,8], [7,2,5,7], [2,5,7,2], [5,7,2,5]\n",
    "[0,1,7,2,4,7,2,5,7,2,3,8]\t[0,1,7,2,4], [5,7,2,3,8], [7,2,4,7], [7,2,5,7], [2,4,7,2], [2,5,7,2], [4,7,2,5]\n",
    "[0,1,7,2,5,7,2,4,7,2,3,8]\t[0,1,7,2,5], [4,7,2,3,8], [7,2,4,7], [7,2,5,7], [2,4,7,2], [2,5,7,2], [5,7,2,4]\n",
    "\n",
    "<table border=\"1\">\n",
    "<tbody><tr><td>Test Paths</td><td>Test Requirements that are toured by test paths directly</td></tr>\n",
    "<tr><td>[0,1,7,2,3,8]</td><td>[0,1,7,2,3,8]</td></tr><tr><td>[0,1,7,2,5,7,2,3,8]</td><td>[0,1,7,2,5], [5,7,2,3,8], [7,2,5,7], [2,5,7,2]</td></tr><tr><td>[0,1,7,2,4,7,2,3,8]</td><td>[0,1,7,2,4], [4,7,2,3,8], [7,2,4,7], [2,4,7,2]</td></tr><tr><td>[0,1,7,2,4,7,2,4,7,2,3,8]</td><td>[0,1,7,2,4], [4,7,2,3,8], [7,2,4,7], [4,7,2,4], [2,4,7,2]</td></tr><tr><td>[0,1,7,2,5,7,2,5,7,2,3,8]</td><td>[0,1,7,2,5], [5,7,2,3,8], [7,2,5,7], [2,5,7,2], [5,7,2,5]</td></tr><tr><td>[0,1,7,2,4,7,2,5,7,2,3,8]</td><td>[0,1,7,2,4], [5,7,2,3,8], [7,2,4,7], [7,2,5,7], [2,4,7,2], [2,5,7,2], [4,7,2,5]</td></tr><tr><td>[0,1,7,2,5,7,2,4,7,2,3,8]</td><td>[0,1,7,2,5], [4,7,2,3,8], [7,2,4,7], [7,2,5,7], [2,4,7,2], [2,5,7,2], [5,7,2,4]</td></tr></tbody></table>"
   ]
  },
  {
   "cell_type": "markdown",
   "metadata": {},
   "source": [
    "1. [0, 1, 7, 2, 3, 8]: feasible: x = 2, arr = [1, 2, 3], expected result = 1 -> pass\n",
    "1. [0, 1, 7, 2, 5, 7, 2, 3, 8]: feasible: x = 5, arr = [1, 3], expected result = -1 --> throws exception\n",
    "1. [0, 1, 7, 2, 4, 7, 2, 3, 8]: feasible: x = 1, arr = [1, 3], expected result = 0 --> pass\n",
    "1. [0, 1, 7, 2, 4, 7, 2, 4, 7, 2, 3, 8]: feasible: x = 1, arr = [1, 2, 3, 4, 5], expected result = 0 --> pass\n",
    "1. [0, 1, 7, 2, 5, 7, 2, 5, 7, 2, 3, 8]: feasible: x = 7, arr = [1, 2, 3, 4, 5, 6, 7], expected result = 6 --> pass\n",
    "1. [0, 1, 7, 2, 4, 7, 2, 5, 7, 2, 3, 8]: feasible: x = 3, arr = [1, 2, 3, 4, 5, 6], expected result = 2 --> pass\n",
    "1. [0, 1, 7, 2, 5, 7, 2, 4, 7, 2, 3, 8]: feasible: x = 5, arr = [1, 2, 3, 4, 5, 6], expected result = 4 --> pass\n",
    "\n",
    "why 7, 6 fails -->\n",
    "1. [0, 1, 7, 2, 4, 7, 2, 4, 7, 6, 8]: infeasible: x = 0, arr = [1, 2, 3], expected result = -1 --> infinite loop\n",
    "1. [0, 1, 7, 2, 5, 7, 2, 5, 7, 6, 8]: feasible: x = 6, arr = [1, 2, 3, 4, 5], expected result = -1 --> throws exception"
   ]
  },
  {
   "cell_type": "code",
   "execution_count": 2,
   "metadata": {},
   "outputs": [
    {
     "data": {
      "text/plain": [
       "'\\nFancy Binary Search\\nfancy-binsearch\\n\\nInput:\\n    arr: A sorted list of ints\\n    x: A value to find\\n\\nOutput:\\n    The lowest index i such that arr[i] == x, or -1 if x not in arr\\n'"
      ]
     },
     "execution_count": 2,
     "metadata": {},
     "output_type": "execute_result"
    }
   ],
   "source": [
    "def find_first_in_sorted(arr, x):\n",
    "    lo = 0\n",
    "    hi = len(arr)\n",
    "\n",
    "    while lo <= hi:\n",
    "        mid = (lo + hi) // 2\n",
    "\n",
    "        if x == arr[mid] and (mid == 0 or x != arr[mid - 1]):\n",
    "            return mid\n",
    "\n",
    "        elif x <= arr[mid]:\n",
    "            hi = mid\n",
    "\n",
    "        else:\n",
    "            lo = mid + 1\n",
    "\n",
    "    return -1\n",
    "\n",
    "\n",
    "\"\"\"\n",
    "Fancy Binary Search\n",
    "fancy-binsearch\n",
    "\n",
    "Input:\n",
    "    arr: A sorted list of ints\n",
    "    x: A value to find\n",
    "\n",
    "Output:\n",
    "    The lowest index i such that arr[i] == x, or -1 if x not in arr\n",
    "\"\"\""
   ]
  },
  {
   "cell_type": "code",
   "execution_count": 3,
   "metadata": {},
   "outputs": [
    {
     "name": "stderr",
     "output_type": "stream",
     "text": [
      "<>:13: SyntaxWarning: 'tuple' object is not callable; perhaps you missed a comma?\n",
      "<>:13: SyntaxWarning: 'tuple' object is not callable; perhaps you missed a comma?\n",
      "/tmp/ipykernel_37954/2326079926.py:13: SyntaxWarning: 'tuple' object is not callable; perhaps you missed a comma?\n",
      "  ('Test Path #7', [1, 2, 3, 4, 5, 6], 5, 4)\n"
     ]
    },
    {
     "ename": "TypeError",
     "evalue": "'tuple' object is not callable",
     "output_type": "error",
     "traceback": [
      "\u001b[0;31m---------------------------------------------------------------------------\u001b[0m",
      "\u001b[0;31mTypeError\u001b[0m                                 Traceback (most recent call last)",
      "\u001b[0;32m/tmp/ipykernel_37954/2326079926.py\u001b[0m in \u001b[0;36m<module>\u001b[0;34m\u001b[0m\n\u001b[1;32m     11\u001b[0m     \u001b[0;34m(\u001b[0m\u001b[0;34m'Test Path #5'\u001b[0m\u001b[0;34m,\u001b[0m \u001b[0;34m[\u001b[0m\u001b[0;36m1\u001b[0m\u001b[0;34m,\u001b[0m \u001b[0;36m2\u001b[0m\u001b[0;34m,\u001b[0m \u001b[0;36m3\u001b[0m\u001b[0;34m,\u001b[0m \u001b[0;36m4\u001b[0m\u001b[0;34m,\u001b[0m \u001b[0;36m5\u001b[0m\u001b[0;34m,\u001b[0m \u001b[0;36m6\u001b[0m\u001b[0;34m,\u001b[0m \u001b[0;36m7\u001b[0m\u001b[0;34m]\u001b[0m\u001b[0;34m,\u001b[0m \u001b[0;36m7\u001b[0m\u001b[0;34m,\u001b[0m \u001b[0;36m6\u001b[0m\u001b[0;34m)\u001b[0m\u001b[0;34m,\u001b[0m\u001b[0;34m\u001b[0m\u001b[0;34m\u001b[0m\u001b[0m\n\u001b[1;32m     12\u001b[0m     \u001b[0;34m(\u001b[0m\u001b[0;34m'Test Path #6'\u001b[0m\u001b[0;34m,\u001b[0m \u001b[0;34m[\u001b[0m\u001b[0;36m1\u001b[0m\u001b[0;34m,\u001b[0m \u001b[0;36m2\u001b[0m\u001b[0;34m,\u001b[0m \u001b[0;36m3\u001b[0m\u001b[0;34m,\u001b[0m \u001b[0;36m4\u001b[0m\u001b[0;34m,\u001b[0m \u001b[0;36m5\u001b[0m\u001b[0;34m,\u001b[0m \u001b[0;36m6\u001b[0m\u001b[0;34m]\u001b[0m\u001b[0;34m,\u001b[0m \u001b[0;36m3\u001b[0m\u001b[0;34m,\u001b[0m \u001b[0;36m2\u001b[0m\u001b[0;34m)\u001b[0m\u001b[0;34m,\u001b[0m\u001b[0;34m\u001b[0m\u001b[0;34m\u001b[0m\u001b[0m\n\u001b[0;32m---> 13\u001b[0;31m     \u001b[0;34m(\u001b[0m\u001b[0;34m'Test Path #7'\u001b[0m\u001b[0;34m,\u001b[0m \u001b[0;34m[\u001b[0m\u001b[0;36m1\u001b[0m\u001b[0;34m,\u001b[0m \u001b[0;36m2\u001b[0m\u001b[0;34m,\u001b[0m \u001b[0;36m3\u001b[0m\u001b[0;34m,\u001b[0m \u001b[0;36m4\u001b[0m\u001b[0;34m,\u001b[0m \u001b[0;36m5\u001b[0m\u001b[0;34m,\u001b[0m \u001b[0;36m6\u001b[0m\u001b[0;34m]\u001b[0m\u001b[0;34m,\u001b[0m \u001b[0;36m5\u001b[0m\u001b[0;34m,\u001b[0m \u001b[0;36m4\u001b[0m\u001b[0;34m)\u001b[0m\u001b[0;34m\u001b[0m\u001b[0;34m\u001b[0m\u001b[0m\n\u001b[0m\u001b[1;32m     14\u001b[0m     \u001b[0;34m(\u001b[0m\u001b[0;34m'Test Path #8'\u001b[0m\u001b[0;34m,\u001b[0m \u001b[0;34m[\u001b[0m\u001b[0;36m1\u001b[0m\u001b[0;34m,\u001b[0m \u001b[0;36m2\u001b[0m\u001b[0;34m,\u001b[0m \u001b[0;36m3\u001b[0m\u001b[0;34m]\u001b[0m\u001b[0;34m,\u001b[0m \u001b[0;36m0\u001b[0m\u001b[0;34m,\u001b[0m \u001b[0;34m-\u001b[0m\u001b[0;36m1\u001b[0m\u001b[0;34m)\u001b[0m\u001b[0;34m,\u001b[0m\u001b[0;34m\u001b[0m\u001b[0;34m\u001b[0m\u001b[0m\n\u001b[1;32m     15\u001b[0m     \u001b[0;34m(\u001b[0m\u001b[0;34m'Test Path #9'\u001b[0m\u001b[0;34m,\u001b[0m \u001b[0;34m[\u001b[0m\u001b[0;36m1\u001b[0m\u001b[0;34m,\u001b[0m \u001b[0;36m2\u001b[0m\u001b[0;34m,\u001b[0m \u001b[0;36m3\u001b[0m\u001b[0;34m,\u001b[0m \u001b[0;36m4\u001b[0m\u001b[0;34m,\u001b[0m \u001b[0;36m5\u001b[0m\u001b[0;34m]\u001b[0m\u001b[0;34m,\u001b[0m \u001b[0;36m6\u001b[0m\u001b[0;34m,\u001b[0m \u001b[0;34m-\u001b[0m\u001b[0;36m1\u001b[0m\u001b[0;34m)\u001b[0m\u001b[0;34m,\u001b[0m\u001b[0;34m\u001b[0m\u001b[0;34m\u001b[0m\u001b[0m\n",
      "\u001b[0;31mTypeError\u001b[0m: 'tuple' object is not callable"
     ]
    }
   ],
   "source": [
    "import pytest\n",
    "import ipytest\n",
    "ipytest.autoconfig\n",
    "\n",
    "infinite_loop_timeout = 5\n",
    "test_cases = [\n",
    "    ('Test Path #1', [1, 2, 3], 2, 1),\n",
    "    ('Test Path #2', [1, 3], 5, -1),\n",
    "    ('Test Path #3', [1, 3], 1, 0),\n",
    "    ('Test Path #4', [1, 2, 3, 4, 5], 1, 0),\n",
    "    ('Test Path #5', [1, 2, 3, 4, 5, 6, 7], 7, 6),\n",
    "    ('Test Path #6', [1, 2, 3, 4, 5, 6], 3, 2),\n",
    "    ('Test Path #7', [1, 2, 3, 4, 5, 6], 5, 4),\n",
    "    ('Test Path #8', [1, 2, 3], 0, -1),\n",
    "    ('Test Path #9', [1, 2, 3, 4, 5], 6, -1)\n",
    "    ]\n",
    "\n",
    "@pytest.mark.parametrize(\n",
    "    'arr, x, expected',\n",
    "    [(t[1], t[2], t[3]) for t in test_cases],\n",
    "    ids = [t[0] for t in test_cases]\n",
    "    )\n",
    "@pytest.mark.timeout(infinite_loop_timeout)\n",
    "def test_find_first_in_sorted(arr, x, expected):\n",
    "    result = find_first_in_sorted(arr = arr, x = x)\n",
    "    assert result == expected\n",
    "\n",
    "ipytest.run()"
   ]
  }
 ],
 "metadata": {
  "kernelspec": {
   "display_name": "Python 3.9.7 64-bit",
   "language": "python",
   "name": "python3"
  },
  "language_info": {
   "codemirror_mode": {
    "name": "ipython",
    "version": 3
   },
   "file_extension": ".py",
   "mimetype": "text/x-python",
   "name": "python",
   "nbconvert_exporter": "python",
   "pygments_lexer": "ipython3",
   "version": "3.9.7"
  },
  "orig_nbformat": 4,
  "vscode": {
   "interpreter": {
    "hash": "916dbcbb3f70747c44a77c7bcd40155683ae19c65e1c03b4aa3499c5328201f1"
   }
  }
 },
 "nbformat": 4,
 "nbformat_minor": 2
}
